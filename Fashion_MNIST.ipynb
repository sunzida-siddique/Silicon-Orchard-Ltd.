{
  "nbformat": 4,
  "nbformat_minor": 0,
  "metadata": {
    "colab": {
      "provenance": []
    },
    "kernelspec": {
      "name": "python3",
      "display_name": "Python 3"
    },
    "language_info": {
      "name": "python"
    }
  },
  "cells": [
    {
      "cell_type": "code",
      "execution_count": null,
      "metadata": {
        "id": "BYeGm2ZWMPWC"
      },
      "outputs": [],
      "source": [
        "import numpy as np\n",
        "import multiprocessing\n",
        "from tensorflow import keras\n",
        "\n"
      ]
    },
    {
      "cell_type": "code",
      "source": [
        "# Define the custom generator that uses multiprocessing to preprocess the data in parallel\n",
        "class ParallelGenerator(keras.utils.Sequence):\n",
        "    \n",
        "    def __init__(self, x, y, batch_size=32, num_workers=4):\n",
        "        self.x = x\n",
        "        self.y = y\n",
        "        self.batch_size = batch_size\n",
        "        self.num_workers = num_workers\n",
        "        self.pool = multiprocessing.Pool(processes=num_workers)\n",
        "        self.indexes = np.arange(len(self.x))\n",
        "        np.random.shuffle(self.indexes)\n",
        "        \n",
        "    def __len__(self):\n",
        "        return int(np.ceil(len(self.x) / float(self.batch_size)))\n",
        "    \n",
        "    def __getitem__(self, idx):\n",
        "        batch_indexes = self.indexes[idx*self.batch_size:(idx+1)*self.batch_size]\n",
        "        batch_x = self.x[batch_indexes]\n",
        "        batch_y = self.y[batch_indexes]\n",
        "        results = self.pool.map_async(preprocess_image, batch_x)\n",
        "        batch_x = np.array(results.get())\n",
        "        return batch_x, batch_y\n",
        "    \n",
        "    def on_epoch_end(self):\n",
        "        np.random.shuffle(self.indexes)\n",
        "        \n",
        "    def __del__(self):\n",
        "        self.pool.close()\n",
        "        self.pool.join()\n",
        "\n",
        "\n"
      ],
      "metadata": {
        "id": "gLi7UTzgmYRy"
      },
      "execution_count": null,
      "outputs": []
    },
    {
      "cell_type": "code",
      "source": [
        "# Define the function to preprocess an image using a separate process\n",
        "def preprocess_image(img):\n",
        "    img = img.astype(np.float32) / 255.0\n",
        "    img = np.expand_dims(img, axis=-1)\n",
        "    return img\n",
        "\n"
      ],
      "metadata": {
        "id": "tDPV8DaFme_8"
      },
      "execution_count": null,
      "outputs": []
    },
    {
      "cell_type": "code",
      "source": [
        "# Load the Fashion-MNIST dataset\n",
        "(x_train, y_train), (x_test, y_test) = keras.datasets.fashion_mnist.load_data()\n",
        "\n"
      ],
      "metadata": {
        "id": "5QE5FWM4mj6N"
      },
      "execution_count": null,
      "outputs": []
    },
    {
      "cell_type": "code",
      "source": [
        "# Preprocess the dataset\n",
        "x_train = x_train.astype(np.float32) / 255.0\n",
        "x_test = x_test.astype(np.float32) / 255.0\n",
        "y_train = keras.utils.to_categorical(y_train, num_classes=10)\n",
        "y_test = keras.utils.to_categorical(y_test, num_classes=10)\n",
        "\n",
        "\n"
      ],
      "metadata": {
        "id": "Qnsz1iPkmpIS"
      },
      "execution_count": null,
      "outputs": []
    },
    {
      "cell_type": "code",
      "source": [
        "# Define the CNN model\n",
        "model = keras.models.Sequential([\n",
        "    keras.layers.Conv2D(32, (3,3), activation='relu', input_shape=(28,28,1)),\n",
        "    keras.layers.MaxPooling2D((2,2)),\n",
        "    keras.layers.Conv2D(64, (3,3), activation='relu'),\n",
        "    keras.layers.MaxPooling2D((2,2)),\n",
        "    keras.layers.Flatten(),\n",
        "    keras.layers.Dense(64, activation='relu'),\n",
        "    keras.layers.Dense(10, activation='softmax')\n",
        "])\n",
        "\n"
      ],
      "metadata": {
        "id": "jZuy5C-XmsDa"
      },
      "execution_count": null,
      "outputs": []
    },
    {
      "cell_type": "code",
      "source": [
        "# Compile the model\n",
        "model.compile(optimizer='adam', loss='categorical_crossentropy', metrics=['accuracy'])\n",
        "\n"
      ],
      "metadata": {
        "id": "860ue-2umuEC"
      },
      "execution_count": null,
      "outputs": []
    },
    {
      "cell_type": "code",
      "source": [
        "# Train the model using the parallel generator\n",
        "train_generator = ParallelGenerator(x_train, y_train, batch_size=32, num_workers=4)\n",
        "model.fit(train_generator, epochs=5)\n",
        "\n"
      ],
      "metadata": {
        "colab": {
          "base_uri": "https://localhost:8080/"
        },
        "id": "1hd2DZC2mvgd",
        "outputId": "ab953ff5-44cc-4ec6-b5e5-0833baa20e27"
      },
      "execution_count": null,
      "outputs": [
        {
          "output_type": "stream",
          "name": "stdout",
          "text": [
            "Epoch 1/5\n",
            "1875/1875 [==============================] - 75s 39ms/step - loss: 0.9285 - accuracy: 0.6569\n",
            "Epoch 2/5\n",
            "1875/1875 [==============================] - 71s 38ms/step - loss: 0.6464 - accuracy: 0.7582\n",
            "Epoch 3/5\n",
            "1875/1875 [==============================] - 71s 38ms/step - loss: 0.5781 - accuracy: 0.7826\n",
            "Epoch 4/5\n",
            "1875/1875 [==============================] - 71s 38ms/step - loss: 0.5298 - accuracy: 0.8009\n",
            "Epoch 5/5\n",
            "1875/1875 [==============================] - 71s 38ms/step - loss: 0.4971 - accuracy: 0.8160\n"
          ]
        },
        {
          "output_type": "execute_result",
          "data": {
            "text/plain": [
              "<keras.callbacks.History at 0x7f372e4f2ca0>"
            ]
          },
          "metadata": {},
          "execution_count": 31
        }
      ]
    },
    {
      "cell_type": "code",
      "source": [
        "# Evaluate the model\n",
        "test_loss, test_acc = model.evaluate(x_test, y_test)\n",
        "print('Test accuracy:', test_acc)"
      ],
      "metadata": {
        "colab": {
          "base_uri": "https://localhost:8080/"
        },
        "id": "jfN9LaLwmwvH",
        "outputId": "2c97ca33-e144-4e98-fa78-fda7fbd0544e"
      },
      "execution_count": null,
      "outputs": [
        {
          "output_type": "stream",
          "name": "stdout",
          "text": [
            "313/313 [==============================] - 3s 9ms/step - loss: 279.0136 - accuracy: 0.3412\n",
            "Test accuracy: 0.34119999408721924\n"
          ]
        }
      ]
    }
  ]
}