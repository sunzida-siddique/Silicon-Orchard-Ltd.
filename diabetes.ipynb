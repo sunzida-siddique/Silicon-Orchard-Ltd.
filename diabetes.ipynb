{
  "cells": [
    {
      "cell_type": "code",
      "execution_count": null,
      "metadata": {
        "id": "O6x8l255-k-Z"
      },
      "outputs": [],
      "source": [
        "import numpy as np\n",
        "import pandas as pd \n",
        "import seaborn as sns\n",
        "import matplotlib.pyplot as plt\n",
        "from sklearn import datasets\n",
        "from sklearn.model_selection import train_test_split, cross_val_score"
      ]
    },
    {
      "cell_type": "code",
      "execution_count": null,
      "metadata": {
        "id": "KfLZ1s2f-7Vo",
        "colab": {
          "base_uri": "https://localhost:8080/"
        },
        "outputId": "6e61b77d-7eaa-4b2d-d240-91751643241f"
      },
      "outputs": [
        {
          "output_type": "stream",
          "name": "stdout",
          "text": [
            "Drive already mounted at /content/drive; to attempt to forcibly remount, call drive.mount(\"/content/drive\", force_remount=True).\n"
          ]
        }
      ],
      "source": [
        "from google.colab import drive\n",
        "drive.mount('/content/drive')"
      ]
    },
    {
      "cell_type": "code",
      "execution_count": null,
      "metadata": {
        "id": "QL6NAmQ2_A05"
      },
      "outputs": [],
      "source": [
        "import pandas as pd\n"
      ]
    },
    {
      "cell_type": "code",
      "execution_count": null,
      "metadata": {
        "id": "wacslQArLKvy"
      },
      "outputs": [],
      "source": [
        "diabetes =pd.read_csv('/content/drive/MyDrive/ML/diabetes.csv')"
      ]
    },
    {
      "cell_type": "markdown",
      "metadata": {
        "id": "ZJj3viXtOA_o"
      },
      "source": [
        "#data Preprocessing"
      ]
    },
    {
      "cell_type": "code",
      "execution_count": null,
      "metadata": {
        "id": "PAskJQVRLc3k"
      },
      "outputs": [],
      "source": [
        "# Handle missing data\n",
        "diabetes = diabetes.dropna()"
      ]
    },
    {
      "cell_type": "code",
      "execution_count": null,
      "metadata": {
        "id": "-IVJw7iLLdBu"
      },
      "outputs": [],
      "source": [
        "# Separate the predictor variables and target variable\n",
        "# Preprocessing the data\n",
        "X = diabetes.iloc[:, :-1]\n",
        "y = diabetes.iloc[:, -1]\n",
        "from sklearn.model_selection import train_test_split\n",
        "\n",
        "X_train, X_test, y_train, y_test = train_test_split(X, y, test_size=0.2, random_state=42)\n"
      ]
    },
    {
      "cell_type": "code",
      "execution_count": null,
      "metadata": {
        "id": "eSwUzYEfLdLx"
      },
      "outputs": [],
      "source": [
        "# Scale the data\n",
        "from sklearn.preprocessing import StandardScaler\n",
        "scaler = StandardScaler()\n",
        "\n",
        "X_train_scaled = scaler.fit_transform(X_train)\n",
        "X_test_scaled = scaler.transform(X_test)"
      ]
    },
    {
      "cell_type": "markdown",
      "metadata": {
        "id": "VYQ35uaLOFy8"
      },
      "source": [
        "#ALgorithm"
      ]
    },
    {
      "cell_type": "code",
      "execution_count": null,
      "metadata": {
        "id": "NUXvA0_aMKtv"
      },
      "outputs": [],
      "source": [
        "from sklearn.datasets import load_diabetes\n",
        "from sklearn.model_selection import train_test_split\n",
        "from sklearn.linear_model import LinearRegression\n",
        "from sklearn.tree import DecisionTreeRegressor\n",
        "from sklearn.ensemble import RandomForestRegressor, GradientBoostingRegressor\n",
        "from sklearn.svm import SVR\n",
        "from sklearn.metrics import mean_squared_error"
      ]
    },
    {
      "cell_type": "code",
      "execution_count": null,
      "metadata": {
        "id": "uN8LNhh1MKwd"
      },
      "outputs": [],
      "source": [
        "# Create a dictionary of regressors\n",
        "regressors = {\n",
        "    \"Linear Regression\": LinearRegression(),\n",
        "    \"Decision Tree Regression\": DecisionTreeRegressor(),\n",
        "    \"Random Forest Regression\": RandomForestRegressor(),\n",
        "    \"Gradient Boosting Regression\": GradientBoostingRegressor(),\n",
        "    \"Support Vector Regression\": SVR(),\n",
        "}\n"
      ]
    },
    {
      "cell_type": "markdown",
      "metadata": {
        "id": "-bjNJdRyOKG0"
      },
      "source": [
        "#Train Data"
      ]
    },
    {
      "cell_type": "code",
      "execution_count": null,
      "metadata": {
        "id": "o5i1fEBzMKzK",
        "colab": {
          "base_uri": "https://localhost:8080/"
        },
        "outputId": "704082b8-37c8-447a-d0cd-6b020f6c911f"
      },
      "outputs": [
        {
          "output_type": "stream",
          "name": "stdout",
          "text": [
            "Fitting Linear Regression\n",
            "MSE: 2900.193628493482\n",
            "Fitting Decision Tree Regression\n",
            "MSE: 5219.988764044944\n",
            "Fitting Random Forest Regression\n",
            "MSE: 3038.8878292134837\n",
            "Fitting Gradient Boosting Regression\n",
            "MSE: 2891.7742662294463\n",
            "Fitting Support Vector Regression\n",
            "MSE: 5033.019856370607\n"
          ]
        }
      ],
      "source": [
        "# Fit and evaluate each regressor\n",
        "for name, regressor in regressors.items():\n",
        "    print(\"Fitting\", name)\n",
        "    regressor.fit(X_train, y_train)\n",
        "    y_pred = regressor.predict(X_test)\n",
        "    mse = mean_squared_error(y_test, y_pred)\n",
        "    print(\"MSE:\", mse)\n",
        "\n"
      ]
    },
    {
      "cell_type": "code",
      "execution_count": null,
      "metadata": {
        "id": "UgGshb8oMK42",
        "colab": {
          "base_uri": "https://localhost:8080/",
          "height": 295
        },
        "outputId": "30a6f1fb-1783-4973-c23b-6c2ca0cd6d89"
      },
      "outputs": [
        {
          "output_type": "display_data",
          "data": {
            "text/plain": [
              "<Figure size 432x288 with 1 Axes>"
            ],
            "image/png": "[encoded data removed]"
          },
          "metadata": {
            "needs_background": "light"
          }
        }
      ],
      "source": [
        "import matplotlib.pyplot as plt\n",
        "\n",
        "# Create a scatter plot of the actual vs. predicted target values\n",
        "plt.scatter(y_test, y_pred)\n",
        "plt.xlabel('Actual Target Values')\n",
        "plt.ylabel('Predicted Target Values')\n",
        "plt.title('Actual vs. Predicted Target Values')\n",
        "plt.show()"
      ]
    },
    {
      "cell_type": "markdown",
      "metadata": {
        "id": "LdaizA_OOPRF"
      },
      "source": [
        "#cross validatioon for evaluaion"
      ]
    },
    {
      "cell_type": "code",
      "execution_count": null,
      "metadata": {
        "id": "tFgN7E96M57Q"
      },
      "outputs": [],
      "source": [
        "from sklearn.ensemble import RandomForestRegressor\n",
        "from sklearn.model_selection import GridSearchCV\n",
        "\n",
        "# Define the hyperparameter grid\n",
        "param_grid = {\n",
        "    'n_estimators': [50, 100, 200],\n",
        "    'max_depth': [5, 10, 20],\n",
        "    'min_samples_split': [2, 5, 10],\n",
        "    'min_samples_leaf': [1, 2, 4]\n",
        "}"
      ]
    },
    {
      "cell_type": "code",
      "source": [
        "# Create a random forest regression model\n",
        "rf = RandomForestRegressor()\n",
        "from sklearn.metrics import mean_squared_error, r2_score\n",
        "# Perform grid search cross-validation to find the optimal hyperparameters\n",
        "grid_search = GridSearchCV(estimator=rf, param_grid=param_grid, cv=5)\n",
        "grid_search.fit(X_train_scaled, y_train)\n",
        "# Print out the best hyperparameters and the corresponding model performance on the test set\n",
        "print(\"Best parameters: \", grid_search.best_params_)\n",
        "y_pred = grid_search.predict(X_test_scaled)\n",
        "print(\"Mean squared error: %.2f\" % mean_squared_error(y_test, y_pred))\n",
        "print(\"Coefficient of determination (R^2): %.2f\" % r2_score(y_test, y_pred))"
      ],
      "metadata": {
        "id": "TQNYudY2h-MU",
        "colab": {
          "base_uri": "https://localhost:8080/"
        },
        "outputId": "0311067e-94ca-4b64-929d-b838249a2615"
      },
      "execution_count": null,
      "outputs": [
        {
          "output_type": "stream",
          "name": "stdout",
          "text": [
            "Best parameters:  {'max_depth': 5, 'min_samples_leaf': 4, 'min_samples_split': 2, 'n_estimators': 100}\n",
            "Mean squared error: 2785.05\n",
            "Coefficient of determination (R^2): 0.47\n"
          ]
        }
      ]
    },
    {
      "cell_type": "markdown",
      "metadata": {
        "id": "W4iYhZUsND8V"
      },
      "source": [
        "To tune the hyperparameters of a regression model on the diabetes dataset, we can use grid search cross-validation. "
      ]
    }
  ],
  "metadata": {
    "colab": {
      "provenance": []
    },
    "kernelspec": {
      "display_name": "Python 3",
      "name": "python3"
    },
    "language_info": {
      "name": "python"
    }
  },
  "nbformat": 4,
  "nbformat_minor": 0
}